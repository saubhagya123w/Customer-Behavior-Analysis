{
 "cells": [
  {
   "cell_type": "code",
   "execution_count": 2,
   "metadata": {},
   "outputs": [
    {
     "name": "stdout",
     "output_type": "stream",
     "text": [
      "('customers',)\n"
     ]
    }
   ],
   "source": [
    "import mysql.connector\n",
    "# Establish the connection\n",
    "conn = mysql.connector.connect(\n",
    "    host=\"127.0.0.1\",\n",
    "    user=\"root\",\n",
    "    password=\"1234qwert\",\n",
    "    database=\"saubhagya12\"\n",
    ")\n",
    "cursor = conn.cursor()\n",
    "cursor.execute(\"SHOW TABLES\")\n",
    "for table in cursor:\n",
    "    print(table)\n",
    "cursor.close()\n",
    "conn.close()\n"
   ]
  },
  {
   "cell_type": "code",
   "execution_count": 7,
   "metadata": {},
   "outputs": [
    {
     "name": "stdout",
     "output_type": "stream",
     "text": [
      "CSV data successfully inserted into MySQL!\n"
     ]
    }
   ],
   "source": [
    "import pandas as pd\n",
    "from sqlalchemy import create_engine\n",
    "\n",
    "# Database connection details\n",
    "USER = \"root\"  # Replace with your MySQL username\n",
    "PASSWORD = \"1234qwert\"  # Replace with your MySQL password\n",
    "HOST = \"127.0.0.1\"\n",
    "DATABASE = \"saubhagya12\"\n",
    "\n",
    "# Create SQLAlchemy engine using MySQL Connector\n",
    "engine = create_engine(f\"mysql+mysqlconnector://{USER}:{PASSWORD}@{HOST}/{DATABASE}\")\n",
    "\n",
    "# Read the CSV file\n",
    "df = pd.read_csv(\"customers.csv\")\n",
    "\n",
    "# Insert the CSV data into MySQL\n",
    "df.to_sql(\"customers\", con=engine, if_exists=\"append\", index=False, method=\"multi\")\n",
    "\n",
    "print(\"CSV data successfully inserted into MySQL!\")\n",
    "\n"
   ]
  },
  {
   "cell_type": "code",
   "execution_count": 32,
   "metadata": {},
   "outputs": [
    {
     "name": "stdout",
     "output_type": "stream",
     "text": [
      "CSV data successfully inserted into MySQL!\n"
     ]
    }
   ],
   "source": [
    "import pandas as pd\n",
    "from sqlalchemy import create_engine\n",
    "\n",
    "# Database connection details\n",
    "USER = \"root\"  # Replace with your MySQL username\n",
    "PASSWORD = \"1234qwert\"  # Replace with your MySQL password\n",
    "HOST = \"127.0.0.1\"\n",
    "DATABASE = \"saubhagya12\"\n",
    "\n",
    "# Create SQLAlchemy engine using MySQL Connector\n",
    "engine = create_engine(f\"mysql+mysqlconnector://{USER}:{PASSWORD}@{HOST}/{DATABASE}\")\n",
    "\n",
    "# Read the CSV file\n",
    "df = pd.read_csv(\"products.csv\")\n",
    "\n",
    "# Insert the CSV data into MySQL\n",
    "df.to_sql(\"products\", con=engine, if_exists=\"append\", index=False, method=\"multi\")\n",
    "\n",
    "print(\"CSV data successfully inserted into MySQL!\")"
   ]
  },
  {
   "cell_type": "code",
   "execution_count": 20,
   "metadata": {},
   "outputs": [],
   "source": [
    "import pandas as pd"
   ]
  },
  {
   "cell_type": "code",
   "execution_count": 21,
   "metadata": {},
   "outputs": [],
   "source": [
    "data = pd.read_csv(\"engagement_data.csv\")"
   ]
  },
  {
   "cell_type": "code",
   "execution_count": 22,
   "metadata": {},
   "outputs": [
    {
     "data": {
      "text/plain": [
       "(100, 8)"
      ]
     },
     "execution_count": 22,
     "metadata": {},
     "output_type": "execute_result"
    }
   ],
   "source": [
    "data.shape"
   ]
  },
  {
   "cell_type": "code",
   "execution_count": 23,
   "metadata": {},
   "outputs": [
    {
     "data": {
      "text/plain": [
       "EngagementID            int64\n",
       "ContentID               int64\n",
       "ContentType            object\n",
       "Likes                   int64\n",
       "EngagementDate         object\n",
       "CampaignID              int64\n",
       "ProductID               int64\n",
       "ViewsClicksCombined    object\n",
       "dtype: object"
      ]
     },
     "execution_count": 23,
     "metadata": {},
     "output_type": "execute_result"
    }
   ],
   "source": [
    "data.dtypes"
   ]
  },
  {
   "cell_type": "code",
   "execution_count": 24,
   "metadata": {},
   "outputs": [
    {
     "data": {
      "text/plain": [
       "<bound method DataFrame.isnull of     EngagementID  ContentID ContentType  Likes EngagementDate  CampaignID  \\\n",
       "0              1         39        Blog    190     2023-08-30           1   \n",
       "1              2         48        Blog    114     2023-03-28          18   \n",
       "2              3         16       video     32     2023-12-08           7   \n",
       "3              4         43       Video     17     2025-01-21          19   \n",
       "4              5         16  newsletter    306     2024-02-21           6   \n",
       "..           ...        ...         ...    ...            ...         ...   \n",
       "95            96         17        Blog     32     2024-07-15          14   \n",
       "96            97         34        blog      3     2025-07-01          16   \n",
       "97            98         44        blog      0     2025-08-20          11   \n",
       "98            99         26        Blog    119     2024-04-15          17   \n",
       "99           100         32       Video     34     2024-05-05          15   \n",
       "\n",
       "    ProductID ViewsClicksCombined  \n",
       "0           9            1883-671  \n",
       "1          20            5280-532  \n",
       "2          14            1905-204  \n",
       "3          20            2766-257  \n",
       "4          15           5116-1524  \n",
       "..        ...                 ...  \n",
       "95         13             712-142  \n",
       "96          7              696-47  \n",
       "97          8              231-10  \n",
       "98          4            3511-479  \n",
       "99         13            2657-175  \n",
       "\n",
       "[100 rows x 8 columns]>"
      ]
     },
     "execution_count": 24,
     "metadata": {},
     "output_type": "execute_result"
    }
   ],
   "source": [
    "data.isnull"
   ]
  },
  {
   "cell_type": "code",
   "execution_count": 26,
   "metadata": {},
   "outputs": [
    {
     "data": {
      "text/plain": [
       "EngagementID           0\n",
       "ContentID              0\n",
       "ContentType            0\n",
       "Likes                  0\n",
       "EngagementDate         0\n",
       "CampaignID             0\n",
       "ProductID              0\n",
       "ViewsClicksCombined    0\n",
       "dtype: int64"
      ]
     },
     "execution_count": 26,
     "metadata": {},
     "output_type": "execute_result"
    }
   ],
   "source": [
    "data.isnull().sum()"
   ]
  },
  {
   "cell_type": "code",
   "execution_count": 27,
   "metadata": {},
   "outputs": [
    {
     "name": "stdout",
     "output_type": "stream",
     "text": [
      "<class 'pandas.core.frame.DataFrame'>\n",
      "RangeIndex: 100 entries, 0 to 99\n",
      "Data columns (total 8 columns):\n",
      " #   Column               Non-Null Count  Dtype \n",
      "---  ------               --------------  ----- \n",
      " 0   EngagementID         100 non-null    int64 \n",
      " 1   ContentID            100 non-null    int64 \n",
      " 2   ContentType          100 non-null    object\n",
      " 3   Likes                100 non-null    int64 \n",
      " 4   EngagementDate       100 non-null    object\n",
      " 5   CampaignID           100 non-null    int64 \n",
      " 6   ProductID            100 non-null    int64 \n",
      " 7   ViewsClicksCombined  100 non-null    object\n",
      "dtypes: int64(5), object(3)\n",
      "memory usage: 6.4+ KB\n"
     ]
    }
   ],
   "source": [
    "data.info()"
   ]
  },
  {
   "cell_type": "code",
   "execution_count": 28,
   "metadata": {},
   "outputs": [
    {
     "data": {
      "text/html": [
       "<div>\n",
       "<style scoped>\n",
       "    .dataframe tbody tr th:only-of-type {\n",
       "        vertical-align: middle;\n",
       "    }\n",
       "\n",
       "    .dataframe tbody tr th {\n",
       "        vertical-align: top;\n",
       "    }\n",
       "\n",
       "    .dataframe thead th {\n",
       "        text-align: right;\n",
       "    }\n",
       "</style>\n",
       "<table border=\"1\" class=\"dataframe\">\n",
       "  <thead>\n",
       "    <tr style=\"text-align: right;\">\n",
       "      <th></th>\n",
       "      <th>EngagementID</th>\n",
       "      <th>ContentID</th>\n",
       "      <th>ContentType</th>\n",
       "      <th>Likes</th>\n",
       "      <th>EngagementDate</th>\n",
       "      <th>CampaignID</th>\n",
       "      <th>ProductID</th>\n",
       "      <th>ViewsClicksCombined</th>\n",
       "    </tr>\n",
       "  </thead>\n",
       "  <tbody>\n",
       "    <tr>\n",
       "      <th>0</th>\n",
       "      <td>1</td>\n",
       "      <td>39</td>\n",
       "      <td>Blog</td>\n",
       "      <td>190</td>\n",
       "      <td>2023-08-30</td>\n",
       "      <td>1</td>\n",
       "      <td>9</td>\n",
       "      <td>1883-671</td>\n",
       "    </tr>\n",
       "    <tr>\n",
       "      <th>1</th>\n",
       "      <td>2</td>\n",
       "      <td>48</td>\n",
       "      <td>Blog</td>\n",
       "      <td>114</td>\n",
       "      <td>2023-03-28</td>\n",
       "      <td>18</td>\n",
       "      <td>20</td>\n",
       "      <td>5280-532</td>\n",
       "    </tr>\n",
       "    <tr>\n",
       "      <th>2</th>\n",
       "      <td>3</td>\n",
       "      <td>16</td>\n",
       "      <td>video</td>\n",
       "      <td>32</td>\n",
       "      <td>2023-12-08</td>\n",
       "      <td>7</td>\n",
       "      <td>14</td>\n",
       "      <td>1905-204</td>\n",
       "    </tr>\n",
       "    <tr>\n",
       "      <th>3</th>\n",
       "      <td>4</td>\n",
       "      <td>43</td>\n",
       "      <td>Video</td>\n",
       "      <td>17</td>\n",
       "      <td>2025-01-21</td>\n",
       "      <td>19</td>\n",
       "      <td>20</td>\n",
       "      <td>2766-257</td>\n",
       "    </tr>\n",
       "    <tr>\n",
       "      <th>4</th>\n",
       "      <td>5</td>\n",
       "      <td>16</td>\n",
       "      <td>newsletter</td>\n",
       "      <td>306</td>\n",
       "      <td>2024-02-21</td>\n",
       "      <td>6</td>\n",
       "      <td>15</td>\n",
       "      <td>5116-1524</td>\n",
       "    </tr>\n",
       "    <tr>\n",
       "      <th>...</th>\n",
       "      <td>...</td>\n",
       "      <td>...</td>\n",
       "      <td>...</td>\n",
       "      <td>...</td>\n",
       "      <td>...</td>\n",
       "      <td>...</td>\n",
       "      <td>...</td>\n",
       "      <td>...</td>\n",
       "    </tr>\n",
       "    <tr>\n",
       "      <th>95</th>\n",
       "      <td>96</td>\n",
       "      <td>17</td>\n",
       "      <td>Blog</td>\n",
       "      <td>32</td>\n",
       "      <td>2024-07-15</td>\n",
       "      <td>14</td>\n",
       "      <td>13</td>\n",
       "      <td>712-142</td>\n",
       "    </tr>\n",
       "    <tr>\n",
       "      <th>96</th>\n",
       "      <td>97</td>\n",
       "      <td>34</td>\n",
       "      <td>blog</td>\n",
       "      <td>3</td>\n",
       "      <td>2025-07-01</td>\n",
       "      <td>16</td>\n",
       "      <td>7</td>\n",
       "      <td>696-47</td>\n",
       "    </tr>\n",
       "    <tr>\n",
       "      <th>97</th>\n",
       "      <td>98</td>\n",
       "      <td>44</td>\n",
       "      <td>blog</td>\n",
       "      <td>0</td>\n",
       "      <td>2025-08-20</td>\n",
       "      <td>11</td>\n",
       "      <td>8</td>\n",
       "      <td>231-10</td>\n",
       "    </tr>\n",
       "    <tr>\n",
       "      <th>98</th>\n",
       "      <td>99</td>\n",
       "      <td>26</td>\n",
       "      <td>Blog</td>\n",
       "      <td>119</td>\n",
       "      <td>2024-04-15</td>\n",
       "      <td>17</td>\n",
       "      <td>4</td>\n",
       "      <td>3511-479</td>\n",
       "    </tr>\n",
       "    <tr>\n",
       "      <th>99</th>\n",
       "      <td>100</td>\n",
       "      <td>32</td>\n",
       "      <td>Video</td>\n",
       "      <td>34</td>\n",
       "      <td>2024-05-05</td>\n",
       "      <td>15</td>\n",
       "      <td>13</td>\n",
       "      <td>2657-175</td>\n",
       "    </tr>\n",
       "  </tbody>\n",
       "</table>\n",
       "<p>100 rows × 8 columns</p>\n",
       "</div>"
      ],
      "text/plain": [
       "    EngagementID  ContentID ContentType  Likes EngagementDate  CampaignID  \\\n",
       "0              1         39        Blog    190     2023-08-30           1   \n",
       "1              2         48        Blog    114     2023-03-28          18   \n",
       "2              3         16       video     32     2023-12-08           7   \n",
       "3              4         43       Video     17     2025-01-21          19   \n",
       "4              5         16  newsletter    306     2024-02-21           6   \n",
       "..           ...        ...         ...    ...            ...         ...   \n",
       "95            96         17        Blog     32     2024-07-15          14   \n",
       "96            97         34        blog      3     2025-07-01          16   \n",
       "97            98         44        blog      0     2025-08-20          11   \n",
       "98            99         26        Blog    119     2024-04-15          17   \n",
       "99           100         32       Video     34     2024-05-05          15   \n",
       "\n",
       "    ProductID ViewsClicksCombined  \n",
       "0           9            1883-671  \n",
       "1          20            5280-532  \n",
       "2          14            1905-204  \n",
       "3          20            2766-257  \n",
       "4          15           5116-1524  \n",
       "..        ...                 ...  \n",
       "95         13             712-142  \n",
       "96          7              696-47  \n",
       "97          8              231-10  \n",
       "98          4            3511-479  \n",
       "99         13            2657-175  \n",
       "\n",
       "[100 rows x 8 columns]"
      ]
     },
     "execution_count": 28,
     "metadata": {},
     "output_type": "execute_result"
    }
   ],
   "source": [
    "data.dropna()"
   ]
  },
  {
   "cell_type": "code",
   "execution_count": 29,
   "metadata": {},
   "outputs": [
    {
     "data": {
      "text/plain": [
       "np.int64(0)"
      ]
     },
     "execution_count": 29,
     "metadata": {},
     "output_type": "execute_result"
    }
   ],
   "source": [
    "data.duplicated().sum()"
   ]
  },
  {
   "cell_type": "code",
   "execution_count": 31,
   "metadata": {},
   "outputs": [
    {
     "data": {
      "text/html": [
       "<div>\n",
       "<style scoped>\n",
       "    .dataframe tbody tr th:only-of-type {\n",
       "        vertical-align: middle;\n",
       "    }\n",
       "\n",
       "    .dataframe tbody tr th {\n",
       "        vertical-align: top;\n",
       "    }\n",
       "\n",
       "    .dataframe thead th {\n",
       "        text-align: right;\n",
       "    }\n",
       "</style>\n",
       "<table border=\"1\" class=\"dataframe\">\n",
       "  <thead>\n",
       "    <tr style=\"text-align: right;\">\n",
       "      <th></th>\n",
       "      <th>EngagementID</th>\n",
       "      <th>ContentID</th>\n",
       "      <th>ContentType</th>\n",
       "      <th>Likes</th>\n",
       "      <th>EngagementDate</th>\n",
       "      <th>CampaignID</th>\n",
       "      <th>ProductID</th>\n",
       "      <th>ViewsClicksCombined</th>\n",
       "    </tr>\n",
       "  </thead>\n",
       "  <tbody>\n",
       "    <tr>\n",
       "      <th>0</th>\n",
       "      <td>1</td>\n",
       "      <td>39</td>\n",
       "      <td>Blog</td>\n",
       "      <td>190</td>\n",
       "      <td>2023-08-30</td>\n",
       "      <td>1</td>\n",
       "      <td>9</td>\n",
       "      <td>1883-671</td>\n",
       "    </tr>\n",
       "    <tr>\n",
       "      <th>1</th>\n",
       "      <td>2</td>\n",
       "      <td>48</td>\n",
       "      <td>Blog</td>\n",
       "      <td>114</td>\n",
       "      <td>2023-03-28</td>\n",
       "      <td>18</td>\n",
       "      <td>20</td>\n",
       "      <td>5280-532</td>\n",
       "    </tr>\n",
       "    <tr>\n",
       "      <th>2</th>\n",
       "      <td>3</td>\n",
       "      <td>16</td>\n",
       "      <td>video</td>\n",
       "      <td>32</td>\n",
       "      <td>2023-12-08</td>\n",
       "      <td>7</td>\n",
       "      <td>14</td>\n",
       "      <td>1905-204</td>\n",
       "    </tr>\n",
       "    <tr>\n",
       "      <th>3</th>\n",
       "      <td>4</td>\n",
       "      <td>43</td>\n",
       "      <td>Video</td>\n",
       "      <td>17</td>\n",
       "      <td>2025-01-21</td>\n",
       "      <td>19</td>\n",
       "      <td>20</td>\n",
       "      <td>2766-257</td>\n",
       "    </tr>\n",
       "    <tr>\n",
       "      <th>4</th>\n",
       "      <td>5</td>\n",
       "      <td>16</td>\n",
       "      <td>newsletter</td>\n",
       "      <td>306</td>\n",
       "      <td>2024-02-21</td>\n",
       "      <td>6</td>\n",
       "      <td>15</td>\n",
       "      <td>5116-1524</td>\n",
       "    </tr>\n",
       "    <tr>\n",
       "      <th>...</th>\n",
       "      <td>...</td>\n",
       "      <td>...</td>\n",
       "      <td>...</td>\n",
       "      <td>...</td>\n",
       "      <td>...</td>\n",
       "      <td>...</td>\n",
       "      <td>...</td>\n",
       "      <td>...</td>\n",
       "    </tr>\n",
       "    <tr>\n",
       "      <th>95</th>\n",
       "      <td>96</td>\n",
       "      <td>17</td>\n",
       "      <td>Blog</td>\n",
       "      <td>32</td>\n",
       "      <td>2024-07-15</td>\n",
       "      <td>14</td>\n",
       "      <td>13</td>\n",
       "      <td>712-142</td>\n",
       "    </tr>\n",
       "    <tr>\n",
       "      <th>96</th>\n",
       "      <td>97</td>\n",
       "      <td>34</td>\n",
       "      <td>blog</td>\n",
       "      <td>3</td>\n",
       "      <td>2025-07-01</td>\n",
       "      <td>16</td>\n",
       "      <td>7</td>\n",
       "      <td>696-47</td>\n",
       "    </tr>\n",
       "    <tr>\n",
       "      <th>97</th>\n",
       "      <td>98</td>\n",
       "      <td>44</td>\n",
       "      <td>blog</td>\n",
       "      <td>0</td>\n",
       "      <td>2025-08-20</td>\n",
       "      <td>11</td>\n",
       "      <td>8</td>\n",
       "      <td>231-10</td>\n",
       "    </tr>\n",
       "    <tr>\n",
       "      <th>98</th>\n",
       "      <td>99</td>\n",
       "      <td>26</td>\n",
       "      <td>Blog</td>\n",
       "      <td>119</td>\n",
       "      <td>2024-04-15</td>\n",
       "      <td>17</td>\n",
       "      <td>4</td>\n",
       "      <td>3511-479</td>\n",
       "    </tr>\n",
       "    <tr>\n",
       "      <th>99</th>\n",
       "      <td>100</td>\n",
       "      <td>32</td>\n",
       "      <td>Video</td>\n",
       "      <td>34</td>\n",
       "      <td>2024-05-05</td>\n",
       "      <td>15</td>\n",
       "      <td>13</td>\n",
       "      <td>2657-175</td>\n",
       "    </tr>\n",
       "  </tbody>\n",
       "</table>\n",
       "<p>100 rows × 8 columns</p>\n",
       "</div>"
      ],
      "text/plain": [
       "    EngagementID  ContentID ContentType  Likes EngagementDate  CampaignID  \\\n",
       "0              1         39        Blog    190     2023-08-30           1   \n",
       "1              2         48        Blog    114     2023-03-28          18   \n",
       "2              3         16       video     32     2023-12-08           7   \n",
       "3              4         43       Video     17     2025-01-21          19   \n",
       "4              5         16  newsletter    306     2024-02-21           6   \n",
       "..           ...        ...         ...    ...            ...         ...   \n",
       "95            96         17        Blog     32     2024-07-15          14   \n",
       "96            97         34        blog      3     2025-07-01          16   \n",
       "97            98         44        blog      0     2025-08-20          11   \n",
       "98            99         26        Blog    119     2024-04-15          17   \n",
       "99           100         32       Video     34     2024-05-05          15   \n",
       "\n",
       "    ProductID ViewsClicksCombined  \n",
       "0           9            1883-671  \n",
       "1          20            5280-532  \n",
       "2          14            1905-204  \n",
       "3          20            2766-257  \n",
       "4          15           5116-1524  \n",
       "..        ...                 ...  \n",
       "95         13             712-142  \n",
       "96          7              696-47  \n",
       "97          8              231-10  \n",
       "98          4            3511-479  \n",
       "99         13            2657-175  \n",
       "\n",
       "[100 rows x 8 columns]"
      ]
     },
     "execution_count": 31,
     "metadata": {},
     "output_type": "execute_result"
    }
   ],
   "source": [
    "data.drop_duplicates()"
   ]
  },
  {
   "cell_type": "code",
   "execution_count": 33,
   "metadata": {},
   "outputs": [
    {
     "name": "stdout",
     "output_type": "stream",
     "text": [
      "   EngagementID  ContentID ContentType  Likes EngagementDate  CampaignID  \\\n",
      "0             1         39        Blog    190     2023-08-30           1   \n",
      "1             2         48        Blog    114     2023-03-28          18   \n",
      "2             3         16       video     32     2023-12-08           7   \n",
      "3             4         43       Video     17     2025-01-21          19   \n",
      "4             5         16  newsletter    306     2024-02-21           6   \n",
      "\n",
      "   ProductID  Views  Clicks  \n",
      "0          9   1883     671  \n",
      "1         20   5280     532  \n",
      "2         14   1905     204  \n",
      "3         20   2766     257  \n",
      "4         15   5116    1524  \n"
     ]
    }
   ],
   "source": [
    "import pandas as pd\n",
    "\n",
    "# Read CSV file (assuming it's stored as 'data.csv')\n",
    "df = pd.read_csv(\"engagement_data.csv\")\n",
    "\n",
    "# Split the \"ViewsClicksCombined\" column into two new columns: \"Views\" and \"Clicks\"\n",
    "df[['Views', 'Clicks']] = df['ViewsClicksCombined'].str.split('-', expand=True)\n",
    "\n",
    "# Convert the new columns to integers (if needed)\n",
    "df['Views'] = df['Views'].astype(int)\n",
    "df['Clicks'] = df['Clicks'].astype(int)\n",
    "\n",
    "# Drop the original \"ViewsClicksCombined\" column if not needed\n",
    "df.drop(columns=['ViewsClicksCombined'], inplace=True)\n",
    "\n",
    "# Display the updated DataFrame\n",
    "print(df.head())\n"
   ]
  },
  {
   "cell_type": "code",
   "execution_count": 35,
   "metadata": {},
   "outputs": [
    {
     "name": "stdout",
     "output_type": "stream",
     "text": [
      "File saved as 'updated_data.csv'\n"
     ]
    }
   ],
   "source": [
    "import pandas as pd\n",
    "\n",
    "# Read CSV file\n",
    "df = pd.read_csv(\"engagement_data.csv\")\n",
    "\n",
    "# Split the \"ViewsClicksCombined\" column into \"Views\" and \"Clicks\"\n",
    "df[['Views', 'Clicks']] = df['ViewsClicksCombined'].str.split('-', expand=True)\n",
    "\n",
    "# Convert the new columns to integers\n",
    "df['Views'] = df['Views'].astype(int)\n",
    "df['Clicks'] = df['Clicks'].astype(int)\n",
    "\n",
    "# Drop the original column\n",
    "df.drop(columns=['ViewsClicksCombined'], inplace=True)\n",
    "\n",
    "# Save the modified DataFrame into a new file\n",
    "df.to_csv(\"updated_data.csv\", index=False)\n",
    "\n",
    "print(\"File saved as 'updated_data.csv'\")\n"
   ]
  },
  {
   "cell_type": "code",
   "execution_count": 36,
   "metadata": {},
   "outputs": [
    {
     "name": "stdout",
     "output_type": "stream",
     "text": [
      "CSV data successfully inserted into MySQL!\n"
     ]
    }
   ],
   "source": [
    "import pandas as pd\n",
    "from sqlalchemy import create_engine\n",
    "\n",
    "# Database connection details\n",
    "USER = \"root\"  # Replace with your MySQL username\n",
    "PASSWORD = \"1234qwert\"  # Replace with your MySQL password\n",
    "HOST = \"127.0.0.1\"\n",
    "DATABASE = \"saubhagya12\"\n",
    "\n",
    "# Create SQLAlchemy engine using MySQL Connector\n",
    "engine = create_engine(f\"mysql+mysqlconnector://{USER}:{PASSWORD}@{HOST}/{DATABASE}\")\n",
    "\n",
    "# Read the CSV file\n",
    "df = pd.read_csv(\"engagement_data2.csv\")\n",
    "\n",
    "# Insert the CSV data into MySQL\n",
    "df.to_sql(\"engagement_data2\", con=engine, if_exists=\"append\", index=False, method=\"multi\")\n",
    "\n",
    "print(\"CSV data successfully inserted into MySQL!\")\n"
   ]
  },
  {
   "cell_type": "code",
   "execution_count": 37,
   "metadata": {},
   "outputs": [
    {
     "name": "stdout",
     "output_type": "stream",
     "text": [
      "CSV data successfully inserted into MySQL!\n"
     ]
    }
   ],
   "source": [
    "import pandas as pd\n",
    "from sqlalchemy import create_engine\n",
    "\n",
    "# Database connection details\n",
    "USER = \"root\"  # Replace with your MySQL username\n",
    "PASSWORD = \"1234qwert\"  # Replace with your MySQL password\n",
    "HOST = \"127.0.0.1\"\n",
    "DATABASE = \"saubhagya12\"\n",
    "\n",
    "# Create SQLAlchemy engine using MySQL Connector\n",
    "engine = create_engine(f\"mysql+mysqlconnector://{USER}:{PASSWORD}@{HOST}/{DATABASE}\")\n",
    "\n",
    "# Read the CSV file\n",
    "df = pd.read_csv(\"geography.csv\")\n",
    "\n",
    "# Insert the CSV data into MySQL\n",
    "df.to_sql(\"geography\", con=engine, if_exists=\"append\", index=False, method=\"multi\")\n",
    "\n",
    "print(\"CSV data successfully inserted into MySQL!\")\n"
   ]
  },
  {
   "cell_type": "code",
   "execution_count": 39,
   "metadata": {},
   "outputs": [
    {
     "name": "stdout",
     "output_type": "stream",
     "text": [
      "CSV data successfully inserted into MySQL!\n"
     ]
    }
   ],
   "source": [
    "import pandas as pd\n",
    "from sqlalchemy import create_engine\n",
    "\n",
    "# Database connection details\n",
    "USER = \"root\"  # Replace with your MySQL username\n",
    "PASSWORD = \"1234qwert\"  # Replace with your MySQL password\n",
    "HOST = \"127.0.0.1\"\n",
    "DATABASE = \"saubhagya12\"\n",
    "\n",
    "# Create SQLAlchemy engine using MySQL Connector\n",
    "engine = create_engine(f\"mysql+mysqlconnector://{USER}:{PASSWORD}@{HOST}/{DATABASE}\")\n",
    "\n",
    "# Read the CSV file\n",
    "df = pd.read_csv(\"customer_journey.csv\")\n",
    "\n",
    "# Insert the CSV data into MySQL\n",
    "df.to_sql(\"customer_journey\", con=engine, if_exists=\"append\", index=False, method=\"multi\")\n",
    "\n",
    "print(\"CSV data successfully inserted into MySQL!\")\n"
   ]
  },
  {
   "cell_type": "code",
   "execution_count": 40,
   "metadata": {},
   "outputs": [
    {
     "name": "stdout",
     "output_type": "stream",
     "text": [
      "CSV data successfully inserted into MySQL!\n"
     ]
    }
   ],
   "source": [
    "import pandas as pd\n",
    "from sqlalchemy import create_engine\n",
    "\n",
    "# Database connection details\n",
    "USER = \"root\"  # Replace with your MySQL username\n",
    "PASSWORD = \"1234qwert\"  # Replace with your MySQL password\n",
    "HOST = \"127.0.0.1\"\n",
    "DATABASE = \"saubhagya12\"\n",
    "\n",
    "# Create SQLAlchemy engine using MySQL Connector\n",
    "engine = create_engine(f\"mysql+mysqlconnector://{USER}:{PASSWORD}@{HOST}/{DATABASE}\")\n",
    "\n",
    "# Read the CSV file\n",
    "df = pd.read_csv(\"customer_reviews.csv\")\n",
    "\n",
    "# Insert the CSV data into MySQL\n",
    "df.to_sql(\"customer_reviews\", con=engine, if_exists=\"append\", index=False, method=\"multi\")\n",
    "\n",
    "print(\"CSV data successfully inserted into MySQL!\")\n"
   ]
  },
  {
   "cell_type": "code",
   "execution_count": 41,
   "metadata": {},
   "outputs": [],
   "source": [
    "data = pd.read_csv(\"customer_journey.csv\")"
   ]
  },
  {
   "cell_type": "code",
   "execution_count": 43,
   "metadata": {},
   "outputs": [
    {
     "data": {
      "text/plain": [
       "JourneyID      0\n",
       "CustomerID     0\n",
       "ProductID      0\n",
       "VisitDate      0\n",
       "Stage          0\n",
       "Action         0\n",
       "Duration      14\n",
       "dtype: int64"
      ]
     },
     "execution_count": 43,
     "metadata": {},
     "output_type": "execute_result"
    }
   ],
   "source": [
    "data.isnull().sum()"
   ]
  },
  {
   "cell_type": "code",
   "execution_count": 44,
   "metadata": {},
   "outputs": [
    {
     "data": {
      "text/html": [
       "<div>\n",
       "<style scoped>\n",
       "    .dataframe tbody tr th:only-of-type {\n",
       "        vertical-align: middle;\n",
       "    }\n",
       "\n",
       "    .dataframe tbody tr th {\n",
       "        vertical-align: top;\n",
       "    }\n",
       "\n",
       "    .dataframe thead th {\n",
       "        text-align: right;\n",
       "    }\n",
       "</style>\n",
       "<table border=\"1\" class=\"dataframe\">\n",
       "  <thead>\n",
       "    <tr style=\"text-align: right;\">\n",
       "      <th></th>\n",
       "      <th>JourneyID</th>\n",
       "      <th>CustomerID</th>\n",
       "      <th>ProductID</th>\n",
       "      <th>VisitDate</th>\n",
       "      <th>Stage</th>\n",
       "      <th>Action</th>\n",
       "      <th>Duration</th>\n",
       "    </tr>\n",
       "  </thead>\n",
       "  <tbody>\n",
       "    <tr>\n",
       "      <th>2</th>\n",
       "      <td>3</td>\n",
       "      <td>34</td>\n",
       "      <td>8</td>\n",
       "      <td>2024-06-14</td>\n",
       "      <td>ProductPage</td>\n",
       "      <td>View</td>\n",
       "      <td>235.0</td>\n",
       "    </tr>\n",
       "    <tr>\n",
       "      <th>4</th>\n",
       "      <td>5</td>\n",
       "      <td>91</td>\n",
       "      <td>10</td>\n",
       "      <td>2023-02-11</td>\n",
       "      <td>Homepage</td>\n",
       "      <td>Click</td>\n",
       "      <td>156.0</td>\n",
       "    </tr>\n",
       "    <tr>\n",
       "      <th>5</th>\n",
       "      <td>6</td>\n",
       "      <td>54</td>\n",
       "      <td>11</td>\n",
       "      <td>2025-12-19</td>\n",
       "      <td>Homepage</td>\n",
       "      <td>View</td>\n",
       "      <td>264.0</td>\n",
       "    </tr>\n",
       "    <tr>\n",
       "      <th>6</th>\n",
       "      <td>7</td>\n",
       "      <td>80</td>\n",
       "      <td>4</td>\n",
       "      <td>2023-08-25</td>\n",
       "      <td>Homepage</td>\n",
       "      <td>View</td>\n",
       "      <td>298.0</td>\n",
       "    </tr>\n",
       "    <tr>\n",
       "      <th>7</th>\n",
       "      <td>8</td>\n",
       "      <td>99</td>\n",
       "      <td>10</td>\n",
       "      <td>2025-07-03</td>\n",
       "      <td>ProductPage</td>\n",
       "      <td>View</td>\n",
       "      <td>287.0</td>\n",
       "    </tr>\n",
       "    <tr>\n",
       "      <th>...</th>\n",
       "      <td>...</td>\n",
       "      <td>...</td>\n",
       "      <td>...</td>\n",
       "      <td>...</td>\n",
       "      <td>...</td>\n",
       "      <td>...</td>\n",
       "      <td>...</td>\n",
       "    </tr>\n",
       "    <tr>\n",
       "      <th>95</th>\n",
       "      <td>96</td>\n",
       "      <td>22</td>\n",
       "      <td>9</td>\n",
       "      <td>2024-07-28</td>\n",
       "      <td>ProductPage</td>\n",
       "      <td>View</td>\n",
       "      <td>212.0</td>\n",
       "    </tr>\n",
       "    <tr>\n",
       "      <th>96</th>\n",
       "      <td>97</td>\n",
       "      <td>92</td>\n",
       "      <td>19</td>\n",
       "      <td>2025-05-26</td>\n",
       "      <td>homepage</td>\n",
       "      <td>View</td>\n",
       "      <td>203.0</td>\n",
       "    </tr>\n",
       "    <tr>\n",
       "      <th>97</th>\n",
       "      <td>98</td>\n",
       "      <td>95</td>\n",
       "      <td>8</td>\n",
       "      <td>2025-05-25</td>\n",
       "      <td>Homepage</td>\n",
       "      <td>Click</td>\n",
       "      <td>68.0</td>\n",
       "    </tr>\n",
       "    <tr>\n",
       "      <th>98</th>\n",
       "      <td>99</td>\n",
       "      <td>58</td>\n",
       "      <td>16</td>\n",
       "      <td>2024-07-06</td>\n",
       "      <td>Checkout</td>\n",
       "      <td>Purchase</td>\n",
       "      <td>87.0</td>\n",
       "    </tr>\n",
       "    <tr>\n",
       "      <th>99</th>\n",
       "      <td>100</td>\n",
       "      <td>92</td>\n",
       "      <td>10</td>\n",
       "      <td>2024-04-06</td>\n",
       "      <td>ProductPage</td>\n",
       "      <td>View</td>\n",
       "      <td>237.0</td>\n",
       "    </tr>\n",
       "  </tbody>\n",
       "</table>\n",
       "<p>86 rows × 7 columns</p>\n",
       "</div>"
      ],
      "text/plain": [
       "    JourneyID  CustomerID  ProductID   VisitDate        Stage    Action  \\\n",
       "2           3          34          8  2024-06-14  ProductPage      View   \n",
       "4           5          91         10  2023-02-11     Homepage     Click   \n",
       "5           6          54         11  2025-12-19     Homepage      View   \n",
       "6           7          80          4  2023-08-25     Homepage      View   \n",
       "7           8          99         10  2025-07-03  ProductPage      View   \n",
       "..        ...         ...        ...         ...          ...       ...   \n",
       "95         96          22          9  2024-07-28  ProductPage      View   \n",
       "96         97          92         19  2025-05-26     homepage      View   \n",
       "97         98          95          8  2025-05-25     Homepage     Click   \n",
       "98         99          58         16  2024-07-06     Checkout  Purchase   \n",
       "99        100          92         10  2024-04-06  ProductPage      View   \n",
       "\n",
       "    Duration  \n",
       "2      235.0  \n",
       "4      156.0  \n",
       "5      264.0  \n",
       "6      298.0  \n",
       "7      287.0  \n",
       "..       ...  \n",
       "95     212.0  \n",
       "96     203.0  \n",
       "97      68.0  \n",
       "98      87.0  \n",
       "99     237.0  \n",
       "\n",
       "[86 rows x 7 columns]"
      ]
     },
     "execution_count": 44,
     "metadata": {},
     "output_type": "execute_result"
    }
   ],
   "source": [
    "data.dropna()"
   ]
  },
  {
   "cell_type": "code",
   "execution_count": 2,
   "metadata": {},
   "outputs": [
    {
     "name": "stdout",
     "output_type": "stream",
     "text": [
      "Sentiment_Label\n",
      "Neutral     69\n",
      "Positive    30\n",
      "Negative     1\n",
      "Name: count, dtype: int64\n",
      "                                 ReviewText Sentiment_Label\n",
      "0   Average  experience,  nothing  special.         Neutral\n",
      "1            The  quality  is    top-notch.         Neutral\n",
      "2   Five  stars  for  the  quick  delivery.         Neutral\n",
      "3  Good  quality,  but  could  be  cheaper.        Positive\n",
      "4   Average  experience,  nothing  special.         Neutral\n"
     ]
    }
   ],
   "source": [
    "import pandas as pd\n",
    "\n",
    "# Load customer reviews data\n",
    "df = pd.read_csv(\"customer_reviews.csv\")  # Update path if necessary\n",
    "\n",
    "# Define simple positive and negative words\n",
    "positive_words = [\"good\", \"great\", \"excellent\", \"amazing\", \"love\", \"best\", \"happy\", \"positive\", \"satisfied\"]\n",
    "negative_words = [\"bad\", \"poor\", \"worst\", \"terrible\", \"awful\", \"hate\", \"negative\", \"unsatisfied\"]\n",
    "\n",
    "# Function to assign sentiment based on keyword matching\n",
    "def simple_sentiment(text):\n",
    "    text = str(text).lower()  # Convert to lowercase\n",
    "    if any(word in text for word in positive_words):\n",
    "        return \"Positive\"\n",
    "    elif any(word in text for word in negative_words):\n",
    "        return \"Negative\"\n",
    "    else:\n",
    "        return \"Neutral\"\n",
    "\n",
    "# Apply the sentiment function\n",
    "df['Sentiment_Label'] = df['ReviewText'].apply(simple_sentiment)\n",
    "\n",
    "# Print sentiment distribution\n",
    "print(df['Sentiment_Label'].value_counts())\n",
    "\n",
    "# Display some reviews with sentiment labels\n",
    "print(df[['ReviewText', 'Sentiment_Label']].head())\n"
   ]
  },
  {
   "cell_type": "code",
   "execution_count": 3,
   "metadata": {},
   "outputs": [
    {
     "name": "stdout",
     "output_type": "stream",
     "text": [
      "Sentiment analysis completed! Results saved to 'customer_reviews_with_sentiment.csv'.\n"
     ]
    }
   ],
   "source": [
    "import pandas as pd\n",
    "\n",
    "# Load customer reviews data\n",
    "df = pd.read_csv(\"customer_reviews.csv\")  # Update path if necessary\n",
    "\n",
    "# Define keyword-based sentiment classification\n",
    "positive_words = [\"good\", \"great\", \"excellent\", \"amazing\", \"love\", \"best\", \"happy\", \"positive\", \"satisfied\"]\n",
    "negative_words = [\"bad\", \"poor\", \"worst\", \"terrible\", \"awful\", \"hate\", \"negative\", \"unsatisfied\"]\n",
    "\n",
    "def simple_sentiment(text):\n",
    "    text = str(text).lower()\n",
    "    if any(word in text for word in positive_words):\n",
    "        return \"Positive\"\n",
    "    elif any(word in text for word in negative_words):\n",
    "        return \"Negative\"\n",
    "    else:\n",
    "        return \"Neutral\"\n",
    "\n",
    "# Apply the function\n",
    "df['Sentiment_Label'] = df['ReviewText'].apply(simple_sentiment)\n",
    "\n",
    "# Save results to a new CSV file\n",
    "df.to_csv(\"customer_reviews_with_sentiment.csv\", index=False)\n",
    "\n",
    "print(\"Sentiment analysis completed! Results saved to 'customer_reviews_with_sentiment.csv'.\")\n"
   ]
  },
  {
   "cell_type": "code",
   "execution_count": 5,
   "metadata": {},
   "outputs": [
    {
     "name": "stdout",
     "output_type": "stream",
     "text": [
      "CSV data successfully inserted into MySQL!\n"
     ]
    }
   ],
   "source": [
    "import pandas as pd\n",
    "from sqlalchemy import create_engine\n",
    "\n",
    "# Database connection details\n",
    "USER = \"root\"  # Replace with your MySQL username\n",
    "PASSWORD = \"1234qwert\"  # Replace with your MySQL password\n",
    "HOST = \"127.0.0.1\"\n",
    "DATABASE = \"saubhagya12\"\n",
    "\n",
    "# Create SQLAlchemy engine using MySQL Connector\n",
    "engine = create_engine(f\"mysql+mysqlconnector://{USER}:{PASSWORD}@{HOST}/{DATABASE}\")\n",
    "\n",
    "# Read the CSV file\n",
    "df = pd.read_csv(\"sentiment_analysis .csv\")\n",
    "\n",
    "# Insert the CSV data into MySQL\n",
    "df.to_sql(\"sentiment_analysis\", con=engine, if_exists=\"append\", index=False, method=\"multi\")\n",
    "\n",
    "print(\"CSV data successfully inserted into MySQL!\")"
   ]
  }
 ],
 "metadata": {
  "kernelspec": {
   "display_name": "venv",
   "language": "python",
   "name": "venv"
  },
  "language_info": {
   "codemirror_mode": {
    "name": "ipython",
    "version": 3
   },
   "file_extension": ".py",
   "mimetype": "text/x-python",
   "name": "python",
   "nbconvert_exporter": "python",
   "pygments_lexer": "ipython3",
   "version": "3.10.0"
  }
 },
 "nbformat": 4,
 "nbformat_minor": 2
}
